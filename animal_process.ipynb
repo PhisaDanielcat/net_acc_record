{
 "cells": [
  {
   "cell_type": "code",
   "execution_count": 25,
   "id": "bb4824b6",
   "metadata": {},
   "outputs": [],
   "source": [
    "import os\n",
    "import matplotlib.pyplot as plt\n",
    "%matplotlib inline\n",
    "import numpy as np\n",
    "import torch\n",
    "from torch import nn\n",
    "import torch.optim as optim\n",
    "import torchvision\n",
    "#pip install torchvision\n",
    "from torchvision import transforms, models, datasets\n",
    "#https://pytorch.org/docs/stable/torchvision/index.html\n",
    "import imageio\n",
    "import time\n",
    "import warnings\n",
    "import random\n",
    "import sys\n",
    "import copy\n",
    "import json\n",
    "from PIL import Image"
   ]
  },
  {
   "cell_type": "markdown",
   "id": "d9fcdd7b",
   "metadata": {},
   "source": [
    "### 方法一：采用大幅度的画质压缩到32X32X3"
   ]
  },
  {
   "cell_type": "code",
   "execution_count": 26,
   "id": "0b9b3df1",
   "metadata": {},
   "outputs": [],
   "source": [
    "data_dir = 'C:/Users/86135/.cache/torch/self_made_dataset/animals_self_modify_32_32'\n",
    "train_dir = data_dir + '/train'\n",
    "valid_dir = data_dir + '/valid'"
   ]
  },
  {
   "cell_type": "code",
   "execution_count": 27,
   "id": "9bea9ed3",
   "metadata": {},
   "outputs": [],
   "source": [
    "pic_shape = 32\n",
    "\n",
    "transforms = transforms.ToTensor()\n",
    "\n",
    "\n",
    "\n",
    "# train_transforms = transforms.Compose([transforms.RandomRotation(45),#随机旋转，-45到45度之间随机选\n",
    "#         transforms.CenterCrop(pic_shape),#从中心开始裁剪\n",
    "#         transforms.RandomHorizontalFlip(p=0.5),#随机水平翻转 选择一个概率概率\n",
    "#         transforms.RandomVerticalFlip(p=0.5),#随机垂直翻转\n",
    "#         transforms.ColorJitter(brightness=0.2, contrast=0.1, saturation=0.1, hue=0.1),#参数1为亮度，参数2为对比度，参数3为饱和度，参数4为色相\n",
    "#         transforms.RandomGrayscale(p=0.025),#概率转换成灰度率，3通道就是R=G=B\n",
    "#         transforms.ToTensor(),\n",
    "#         transforms.Normalize([0.485, 0.456, 0.406], [0.229, 0.224, 0.225])#均值，标准差\n",
    "#     ])\n",
    "# valid_transforms = transforms.Compose([transforms.Resize(256),\n",
    "#         transforms.CenterCrop(pic_shape),\n",
    "#         transforms.ToTensor(),\n",
    "#         transforms.Normalize([0.485, 0.456, 0.406], [0.229, 0.224, 0.225])\n",
    "#     ])\n",
    "\n"
   ]
  },
  {
   "cell_type": "code",
   "execution_count": 28,
   "id": "487516ea",
   "metadata": {},
   "outputs": [],
   "source": [
    "BATCH_SIZE = 256\n",
    "\n",
    "train_dataset = torchvision.datasets.ImageFolder(train_dir,transform = transforms)\n",
    "valid_dataset = torchvision.datasets.ImageFolder(valid_dir,transform = transforms)\n",
    "train_loader = torch.utils.data.DataLoader(dataset=train_dataset, batch_size=BATCH_SIZE, shuffle=True)\n",
    "valid_loader = torch.utils.data.DataLoader(dataset=valid_dataset, batch_size=1)"
   ]
  },
  {
   "cell_type": "code",
   "execution_count": 29,
   "id": "2f4ec0b5",
   "metadata": {},
   "outputs": [],
   "source": [
    "conv_layers_num = 3\n",
    "\n",
    "in_features = train_dataset[0][0].shape[0]\n",
    "conv1_features = 32\n",
    "conv2_features = 64\n",
    "conv3_features = 128\n",
    "\n",
    "hidden1_features = conv3_features*(pic_shape/(2**conv_layers_num))**2\n",
    "hidden2_features = hidden1_features/8\n",
    "out_feature = len(train_dataset.class_to_idx)\n",
    "hidden1_features = int(hidden1_features)\n",
    "hidden2_features = int(hidden2_features)\n",
    "epochs = 100\n",
    "lr = 3e-1"
   ]
  },
  {
   "cell_type": "code",
   "execution_count": 30,
   "id": "af27bfb3",
   "metadata": {
    "scrolled": true
   },
   "outputs": [
    {
     "data": {
      "text/plain": [
       "256"
      ]
     },
     "execution_count": 30,
     "metadata": {},
     "output_type": "execute_result"
    }
   ],
   "source": [
    "hidden2_features"
   ]
  },
  {
   "cell_type": "code",
   "execution_count": 31,
   "id": "8b34a2aa",
   "metadata": {},
   "outputs": [],
   "source": [
    "class My_model(nn.Module):\n",
    "    def __init__(self):\n",
    "        super(My_model,self).__init__()\n",
    "        self.conv1 = nn.Sequential(\n",
    "            nn.Conv2d(\n",
    "                in_channels=in_features,\n",
    "                out_channels=conv1_features,\n",
    "                kernel_size=3,\n",
    "                stride=1,\n",
    "                padding=1,\n",
    "                ),\n",
    "            nn.ReLU(),\n",
    "            nn.MaxPool2d(kernel_size=2,stride=2)\n",
    "        )\n",
    "        self.conv2 = nn.Sequential(\n",
    "            nn.Conv2d(\n",
    "                in_channels=conv1_features,\n",
    "                out_channels=conv2_features,\n",
    "                kernel_size=3,\n",
    "                stride=1,\n",
    "                padding=1,\n",
    "                ),\n",
    "            nn.ReLU(),\n",
    "            nn.MaxPool2d(kernel_size=2,stride=2)\n",
    "        )\n",
    "        self.conv3 = nn.Sequential(\n",
    "            nn.Conv2d(\n",
    "                in_channels=conv2_features,\n",
    "                out_channels=conv3_features,\n",
    "                kernel_size=3,\n",
    "                stride=1,\n",
    "                padding=1,\n",
    "                ),\n",
    "            nn.ReLU(),\n",
    "            nn.MaxPool2d(kernel_size=2,stride=2)\n",
    "        )      \n",
    "        \n",
    "        self.fc1 = nn.Sequential(\n",
    "            nn.Linear(hidden1_features,hidden2_features,bias=True),\n",
    "            nn.ReLU()\n",
    "        )\n",
    "        self.fc2 = nn.Sequential(\n",
    "            nn.Linear(hidden2_features,out_feature,bias=True),\n",
    "            nn.ReLU()\n",
    "        )\n",
    "        self.output = nn.Softmax()\n",
    "        \n",
    "    def forward(self,x):\n",
    "        x = self.conv1(x)\n",
    "        x = self.conv2(x)\n",
    "        x = self.conv3(x)\n",
    "#         print(x.shape)\n",
    "        x = x.view(x.size(0), -1)\n",
    "#         print(x.shape)\n",
    "        x = self.fc1(x)\n",
    "        x = self.fc2(x)\n",
    "        return x\n",
    "\n",
    "model = My_model()\n",
    "model.to(torch.device(\"cuda:0\"))\n",
    "optimizer = torch.optim.SGD(model.parameters(),lr = lr)\n",
    "criterion = nn.CrossEntropyLoss()"
   ]
  },
  {
   "cell_type": "code",
   "execution_count": 32,
   "id": "b8a61ac4",
   "metadata": {
    "scrolled": false
   },
   "outputs": [
    {
     "data": {
      "text/plain": [
       "My_model(\n",
       "  (conv1): Sequential(\n",
       "    (0): Conv2d(3, 32, kernel_size=(3, 3), stride=(1, 1), padding=(1, 1))\n",
       "    (1): ReLU()\n",
       "    (2): MaxPool2d(kernel_size=2, stride=2, padding=0, dilation=1, ceil_mode=False)\n",
       "  )\n",
       "  (conv2): Sequential(\n",
       "    (0): Conv2d(32, 64, kernel_size=(3, 3), stride=(1, 1), padding=(1, 1))\n",
       "    (1): ReLU()\n",
       "    (2): MaxPool2d(kernel_size=2, stride=2, padding=0, dilation=1, ceil_mode=False)\n",
       "  )\n",
       "  (conv3): Sequential(\n",
       "    (0): Conv2d(64, 128, kernel_size=(3, 3), stride=(1, 1), padding=(1, 1))\n",
       "    (1): ReLU()\n",
       "    (2): MaxPool2d(kernel_size=2, stride=2, padding=0, dilation=1, ceil_mode=False)\n",
       "  )\n",
       "  (fc1): Sequential(\n",
       "    (0): Linear(in_features=2048, out_features=256, bias=True)\n",
       "    (1): ReLU()\n",
       "  )\n",
       "  (fc2): Sequential(\n",
       "    (0): Linear(in_features=256, out_features=10, bias=True)\n",
       "    (1): ReLU()\n",
       "  )\n",
       "  (output): Softmax(dim=None)\n",
       ")"
      ]
     },
     "execution_count": 32,
     "metadata": {},
     "output_type": "execute_result"
    }
   ],
   "source": [
    "model"
   ]
  },
  {
   "cell_type": "code",
   "execution_count": 33,
   "id": "6695c9ef",
   "metadata": {
    "scrolled": true
   },
   "outputs": [
    {
     "name": "stdout",
     "output_type": "stream",
     "text": [
      "validation!\n",
      "epoch 10 loss = 2.0581371784210205 valid acc =  0.2844574780058651\n",
      "validation!\n",
      "epoch 20 loss = 1.528288722038269 valid acc =  0.4310850439882698\n",
      "validation!\n",
      "epoch 30 loss = 1.5003185272216797 valid acc =  0.46920821114369504\n",
      "validation!\n",
      "epoch 40 loss = 0.8452515602111816 valid acc =  0.5032258064516129\n",
      "validation!\n",
      "epoch 50 loss = 0.21355901658535004 valid acc =  0.506158357771261\n",
      "validation!\n",
      "epoch 60 loss = 0.009838417172431946 valid acc =  0.5372434017595308\n",
      "validation!\n",
      "epoch 70 loss = 0.017864612862467766 valid acc =  0.5372434017595308\n",
      "validation!\n",
      "epoch 80 loss = 0.0011797869810834527 valid acc =  0.5384164222873901\n",
      "validation!\n",
      "epoch 90 loss = 0.0008298491593450308 valid acc =  0.5378299120234604\n",
      "validation!\n",
      "epoch 100 loss = 0.00042186910286545753 valid acc =  0.5366568914956011\n"
     ]
    }
   ],
   "source": [
    "for epoch in range(epochs):\n",
    "    ## train\n",
    "    for image,label in train_loader:\n",
    "        \n",
    "        image=image.to(torch.device(\"cuda:0\"))\n",
    "        label=label.to(torch.device(\"cuda:0\")) \n",
    "        \n",
    "        optimizer.zero_grad()\n",
    "        output = model(image)\n",
    "\n",
    "        loss = criterion(output,label)\n",
    "        loss.backward()\n",
    "        optimizer.step()\n",
    "\n",
    "#     print(\"batch finished\")\n",
    "    if((epoch+1)%(epochs/10)==0):\n",
    "        print(\"validation!\")\n",
    "        ## test\n",
    "        groups = 0\n",
    "        hit = 0\n",
    "        with torch.no_grad():\n",
    "            for image,label in valid_loader:\n",
    "                groups += 1\n",
    "                \n",
    "                image=image.to(torch.device(\"cuda:0\"))\n",
    "                label=label.to(torch.device(\"cuda:0\")) \n",
    "\n",
    "                output = model(image)\n",
    "\n",
    "                predict = np.argmax(output.cpu())\n",
    "\n",
    "                if(int(predict)==int(label)):\n",
    "                    hit+=1\n",
    "        \n",
    "        print(\"epoch\",epoch+1,\"loss =\",float(loss),\"valid acc = \",(hit/groups))             \n",
    "    "
   ]
  },
  {
   "cell_type": "code",
   "execution_count": null,
   "id": "e4f29274",
   "metadata": {},
   "outputs": [],
   "source": []
  },
  {
   "cell_type": "markdown",
   "id": "effc01fc",
   "metadata": {},
   "source": [
    "### 方法二：修改网络结构为主要全连接"
   ]
  },
  {
   "cell_type": "code",
   "execution_count": null,
   "id": "530f834f",
   "metadata": {},
   "outputs": [],
   "source": [
    "conv_layers_num = 3\n",
    "\n",
    "in_features = train_dataset[0][0].shape[0]\n",
    "conv1_features = 32\n",
    "conv2_features = 64\n",
    "conv3_features = 128\n",
    "\n",
    "hidden1_features = conv3_features*(pic_shape/(2**conv_layers_num))**2\n",
    "hidden2_features = hidden1_features/8\n",
    "out_feature = len(train_dataset.class_to_idx)\n",
    "hidden1_features = int(hidden1_features)\n",
    "hidden2_features = int(hidden2_features)\n",
    "epochs = 10\n",
    "lr = 1e-2"
   ]
  },
  {
   "cell_type": "code",
   "execution_count": null,
   "id": "aa0660b4",
   "metadata": {
    "scrolled": true
   },
   "outputs": [],
   "source": [
    "hidden2_features"
   ]
  },
  {
   "cell_type": "code",
   "execution_count": 41,
   "id": "e08ff777",
   "metadata": {},
   "outputs": [],
   "source": [
    "class My_model(nn.Module):\n",
    "    def __init__(self):\n",
    "        super(My_model,self).__init__()\n",
    "        \n",
    "        self.fc1 = nn.Linear(32*32*3,hidden2_features,bias=True)\n",
    "        self.ReLU1= nn.ReLU()\n",
    "        self.fc2 = nn.Linear(hidden2_features,out_feature,bias=True)\n",
    "        self.ReLU2= nn.ReLU()\n",
    "        self.softmax= nn.Softmax()\n",
    "        \n",
    "    def forward(self,x):\n",
    "        x = x.view(x.size(0), -1)\n",
    "        x = self.fc1(x)\n",
    "        x = self.ReLU1(x)\n",
    "        x = self.fc2(x)\n",
    "        x = self.ReLU2(x)\n",
    "        \n",
    "        output = self.softmax(x)\n",
    "        return output\n",
    "\n",
    "model = My_model()\n",
    "model.to(torch.device(\"cuda:0\"))\n",
    "optimizer = torch.optim.SGD(model.parameters(),lr = lr)\n",
    "criterion = nn.CrossEntropyLoss()"
   ]
  },
  {
   "cell_type": "code",
   "execution_count": 42,
   "id": "ce725808",
   "metadata": {
    "scrolled": true
   },
   "outputs": [
    {
     "data": {
      "text/plain": [
       "My_model(\n",
       "  (fc1): Linear(in_features=3072, out_features=256, bias=True)\n",
       "  (ReLU1): ReLU()\n",
       "  (fc2): Linear(in_features=256, out_features=10, bias=True)\n",
       "  (ReLU2): ReLU()\n",
       "  (softmax): Softmax(dim=None)\n",
       ")"
      ]
     },
     "execution_count": 42,
     "metadata": {},
     "output_type": "execute_result"
    }
   ],
   "source": [
    "model"
   ]
  },
  {
   "cell_type": "code",
   "execution_count": 43,
   "id": "99bdeb12",
   "metadata": {
    "scrolled": false
   },
   "outputs": [
    {
     "name": "stderr",
     "output_type": "stream",
     "text": [
      "C:\\Users\\86135\\AppData\\Local\\Temp\\ipykernel_17244\\1038918849.py:18: UserWarning: Implicit dimension choice for softmax has been deprecated. Change the call to include dim=X as an argument.\n",
      "  output = self.softmax(x)\n"
     ]
    },
    {
     "name": "stdout",
     "output_type": "stream",
     "text": [
      "validation!\n",
      "epoch 10 loss = 2.186697483062744 valid acc =  0.28856304985337244\n",
      "validation!\n",
      "epoch 20 loss = 2.161162853240967 valid acc =  0.28328445747800585\n",
      "validation!\n",
      "epoch 30 loss = 2.0933990478515625 valid acc =  0.29266862170087976\n",
      "validation!\n",
      "epoch 40 loss = 2.025831460952759 valid acc =  0.3460410557184751\n",
      "validation!\n",
      "epoch 50 loss = 2.0307528972625732 valid acc =  0.32668621700879763\n",
      "validation!\n",
      "epoch 60 loss = 2.070737600326538 valid acc =  0.3530791788856305\n",
      "validation!\n",
      "epoch 70 loss = 2.1080455780029297 valid acc =  0.3530791788856305\n",
      "validation!\n",
      "epoch 80 loss = 2.002516984939575 valid acc =  0.35835777126099705\n",
      "validation!\n",
      "epoch 90 loss = 2.0414140224456787 valid acc =  0.32082111436950145\n",
      "validation!\n",
      "epoch 100 loss = 2.02754545211792 valid acc =  0.3161290322580645\n"
     ]
    }
   ],
   "source": [
    "for epoch in range(epochs):\n",
    "    ## train\n",
    "    for image,label in train_loader:\n",
    "        \n",
    "        image=image.to(torch.device(\"cuda:0\"))\n",
    "        label=label.to(torch.device(\"cuda:0\")) \n",
    "        \n",
    "        optimizer.zero_grad()\n",
    "        output = model(image)\n",
    "\n",
    "        loss = criterion(output,label)\n",
    "        loss.backward()\n",
    "        optimizer.step()\n",
    "\n",
    "#     print(\"batch finished\")\n",
    "    if((epoch+1)%(epochs/10)==0):\n",
    "        print(\"validation!\")\n",
    "        ## test\n",
    "        groups = 0\n",
    "        hit = 0\n",
    "        with torch.no_grad():\n",
    "            for image,label in valid_loader:\n",
    "                groups += 1\n",
    "                \n",
    "                image=image.to(torch.device(\"cuda:0\"))\n",
    "                label=label.to(torch.device(\"cuda:0\")) \n",
    "\n",
    "                output = model(image)\n",
    "\n",
    "                predict = np.argmax(output.cpu())\n",
    "\n",
    "                if(int(predict)==int(label)):\n",
    "                    hit+=1\n",
    "        \n",
    "        print(\"epoch\",epoch+1,\"loss =\",float(loss),\"valid acc = \",(hit/groups))             \n",
    "    "
   ]
  },
  {
   "cell_type": "code",
   "execution_count": 6,
   "id": "a4413b50",
   "metadata": {},
   "outputs": [
    {
     "name": "stdout",
     "output_type": "stream",
     "text": [
      "2023-03-29 15:42:33.383934\n",
      "当前时间为： 2023_03_29_15_42_33\n"
     ]
    }
   ],
   "source": [
    "import datetime\n",
    "\n",
    "now = datetime.datetime.now()\n",
    "print(now)\n",
    "date_string = now.strftime(\"%Y_%m_%d_%H_%M_%S\")"
   ]
  },
  {
   "cell_type": "code",
   "execution_count": null,
   "id": "ae1fa786",
   "metadata": {},
   "outputs": [],
   "source": []
  }
 ],
 "metadata": {
  "kernelspec": {
   "display_name": "Python 3 (ipykernel)",
   "language": "python",
   "name": "python3"
  },
  "language_info": {
   "codemirror_mode": {
    "name": "ipython",
    "version": 3
   },
   "file_extension": ".py",
   "mimetype": "text/x-python",
   "name": "python",
   "nbconvert_exporter": "python",
   "pygments_lexer": "ipython3",
   "version": "3.10.0"
  }
 },
 "nbformat": 4,
 "nbformat_minor": 5
}
